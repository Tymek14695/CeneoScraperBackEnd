{
 "cells": [
  {
   "cell_type": "markdown",
   "metadata": {},
   "source": [
    "<h1>Ceneo Web Scraper</h1>\n",
    "\n",
    "<h3>Lista produktów</h3>\n",
    "<ul><li>63717975</li>\n",
    "<li>124893467</li>\n",
    "<li>108481121</li>\n",
    "<li>114228736</li>\n",
    "<li>28020568</li></ul>\n",
    "\n",
    "<h3>Lista kroków</h3>\n",
    "    <h4>Wejdź na stronę produktu</h4>\n",
    "    <h4>Pobierz opinię</h4>\n",
    "    <h5>    Dla każdej opinii na stronie:<br>\n",
    "                Skopiuj opinnię<br>\n",
    "                Wklej opinię do edytra tektu<br></h5>\n",
    "    "
   ]
  }
 ],
 "metadata": {
  "language_info": {
   "name": "python"
  }
 },
 "nbformat": 4,
 "nbformat_minor": 2
}
