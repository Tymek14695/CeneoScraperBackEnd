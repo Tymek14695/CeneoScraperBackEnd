{
 "cells": [
  {
   "cell_type": "markdown",
   "metadata": {},
   "source": [
    "<h1>Ceneo Web Scraper</h1>\n",
    "\n",
    "<h3>Lista produktów</h3>\n",
    "<ul><li>63717975</li>\n",
    "<li>124893467</li>\n",
    "<li>108481121</li>\n",
    "<li>114228736</li>\n",
    "<li>28020568</li></ul>\n",
    "\n",
    "<h3>Lista kroków</h3>\n",
    "    <h4>Wejdź na stronę produktu</h4>\n",
    "    <h4>Pobierz opinię</h4>\n",
    "    <h5>    Dla każdej opinii na stronie:<br>\n",
    "                Skopiuj opinnię<br>\n",
    "                Wklej opinię do edytra tektu<br></h5>\n",
    "    "
   ]
  },
  {
   "cell_type": "code",
   "execution_count": 1,
   "metadata": {},
   "outputs": [],
   "source": [
    "import bs4\n",
    "import os\n",
    "page = bs4\n",
    "\n",
    "opinions = page"
   ]
  },
  {
   "cell_type": "markdown",
   "metadata": {},
   "source": [
    "|składowa|nazwa|selektor|\n",
    "|--------|-----|--------|\n",
    "|identyfikator opinii|opinion_id|[\"date-entry-id\"]|\n",
    "|autor|author|snap.user-post__author-name|\n",
    "|rekomendacja|recommendation|span.user-post__author-recomendation > em|\n",
    "|liczba gwiazdek|stars|snap.user-post__score-count|\n",
    "|treść opinii|content|div.user-post__text|\n",
    "|lista zalet|adventages|div.review-feature__title--positives ~ div.review-feature__item|\n",
    "|lista wad|disadventages|div.review-feature__title--negatives ~ div.review-feature__item|\n",
    "|data wystawienia opinii|date|span.user-post__published > time:nth-child(1)[\"datetime\"]|\n",
    "|data zakupu produktu|purchase_date|span.user-post__published > time:nth-child(2)[\"datetime\"]|\n",
    "|ile osób uznało opinię za przydatną|useful|button.vote-yes > span|\n",
    "|ile osób uznało opinię za nieprzydatną|useless|button.vote-no > span|"
   ]
  },
  {
   "cell_type": "code",
   "execution_count": null,
   "metadata": {},
   "outputs": [],
   "source": [
    "\n",
    "all_opinions = []\n",
    "for opinion in opinions:\n",
    "    single_opinion = {\n",
    "        'opinion_id' : ,\n",
    "        'author' : opinion.select_one(\"span.user-post__author-name\").text.strip(),\n",
    "        'recommendation' : opinion.select_one(\"span.user-post__recomendation > em\").text,\n",
    "        'stars' : opinion.select_one(\"span.user-post__score-count\").text,\n",
    "        'content' : opinion.select_one(\"span.user-post__text\").text,\n",
    "        'adventages' : [p.text for p in opinion.select(\"div.review-feature__title--positives ~ div.review-feature__item\")],\n",
    "        'disadventages' : [p.text for p in opinion.select(\"div.review-feature__title--negatives ~ div.review-feature__item\")],\n",
    "        'date' : opinion.select_one('span.user-post__published > time:nth-child(1)[\"datetime\"]').text,\n",
    "        'purchase_date' : opinion.select_one('span.user-post__published > time:nth-child(1)[\"datetime\"]').text,\n",
    "        'useful' : opinion.select_one(\"button.vote-yes\").text,\n",
    "        'useless' : opinion.select_one(\"button.vote-no\").text,\n",
    "    }\n",
    "    all_opinions.append(single_opinion)\n",
    "    "
   ]
  },
  {
   "cell_type": "code",
   "execution_count": null,
   "metadata": {},
   "outputs": [],
   "source": [
    "jFile = open('/opinions/{product_code}.json', 'w', encoding='utf-8')\n"
   ]
  }
 ],
 "metadata": {
  "kernelspec": {
   "display_name": ".venv",
   "language": "python",
   "name": "python3"
  },
  "language_info": {
   "codemirror_mode": {
    "name": "ipython",
    "version": 3
   },
   "file_extension": ".py",
   "mimetype": "text/x-python",
   "name": "python",
   "nbconvert_exporter": "python",
   "pygments_lexer": "ipython3",
   "version": "3.10.12"
  }
 },
 "nbformat": 4,
 "nbformat_minor": 2
}
